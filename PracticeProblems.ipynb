1.Write a program to count the total number of notes in a given amount. Valid notes:10, 20, 50, 100, 500, 2000 eg : amount 2510, expected output is 2000=1,500=1,10=1

    amount = int(input("Enter Amount: "))
    notes = [2000, 500, 100, 50, 20, 10]
    change = []

    while(amount>=0):
      if(amount-notes[0]>=0):
        amount = amount - notes[0]
        change.append(notes[0])

      elif(amount-notes[1]>=0):
        amount = amount - notes[1]
        change.append(notes[1])

      elif(amount-notes[2]>=0):
        amount = amount - notes[2]
        change.append(notes[2])

      elif(amount-notes[3]>=0):
        amount = amount - notes[3]
        change.append(notes[3])

      elif(amount-notes[4]>=0):
        amount = amount - notes[4]
        change.append(notes[4])

      elif(amount-notes[5]>=0):
        amount = amount - notes[5]
        change.append(notes[5])
      else:
        break

    print(change)

    for i in change:
      print(i, ":", change.count(i))
      change.remove(i)


5.Consider a data, where the name of the restaurant, the type of restaurant, and the ratings are provided. Assume these values have already been read into a list of lists of the form below: restaurants = [ [ Acme, Italian, 2, 4, 3, 5],[ Flintstone, Steak, 5, 2, 4, 3, 3, 4],[ Bella Troy, Italian, 1, 4, 5] ]

    restaurants = [ [ "Acme", "Italian", 2, 4, 3, 5],[ "Flintstone", "Steak", 5, 2, 4, 3, 3, 4],[ "Bella", "Troy", "Italian", 1, 4, 5] ]

    for x in range(len(restaurants)):
      for value in restaurants[x]:
        if(value == "Italian"):
          for value_one in restaurants[x]:
            if(type(value_one) == int):
              if(value_one != 1 and value_one >= 5):
                print(restaurants[x][0])
                break

6.In the pre-smartphone era,each number key is assigned a subset of the alphabet {a,b,…,z}: 2 is assigned the subset {a,b,c}, 3 is assigned {d,e,f}, 4 is assigned {g,h,i}, 5 is assigned {j,k,l}, 6 is assigned {m,n,o}, 7 is assigned {p,q,r,s}, 8 is assigned {t,u,v} and 9 is assigned {w,x,y,z}.

Write a program to find the characters generated using key 9999335533 output should be "zeke"

